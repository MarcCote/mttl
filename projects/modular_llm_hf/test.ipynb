{
 "cells": [
  {
   "cell_type": "code",
   "execution_count": 1,
   "metadata": {},
   "outputs": [
    {
     "name": "stderr",
     "output_type": "stream",
     "text": [
      "/home/alsordon/miniconda3/envs/py310/lib/python3.10/site-packages/tqdm/auto.py:21: TqdmWarning: IProgress not found. Please update jupyter and ipywidgets. See https://ipywidgets.readthedocs.io/en/stable/user_install.html\n",
      "  from .autonotebook import tqdm as notebook_tqdm\n"
     ]
    }
   ],
   "source": [
    "import sys\n",
    "\n",
    "sys.path.append(\"../../\")\n",
    "\n",
    "from mttl.models.library.expert_library import VirtualLocalLibrary\n",
    "\n",
    "library = VirtualLocalLibrary(\"./library\")"
   ]
  },
  {
   "cell_type": "code",
   "execution_count": 2,
   "metadata": {},
   "outputs": [
    {
     "name": "stderr",
     "output_type": "stream",
     "text": [
      "Loading checkpoint shards: 100%|██████████| 2/2 [00:00<00:00,  4.64it/s]\n"
     ]
    },
    {
     "ename": "ImportError",
     "evalue": "cannot import name 'AutoModifierConfig' from 'mttl.arguments' (/home/alsordon/microsoft_mttl/projects/modular_llm_hf/../../mttl/arguments.py)",
     "output_type": "error",
     "traceback": [
      "\u001b[0;31m---------------------------------------------------------------------------\u001b[0m",
      "\u001b[0;31mImportError\u001b[0m                               Traceback (most recent call last)",
      "Cell \u001b[0;32mIn[2], line 1\u001b[0m\n\u001b[0;32m----> 1\u001b[0m \u001b[43mlibrary\u001b[49m\u001b[38;5;241;43m.\u001b[39;49m\u001b[43madd_expert_from_ckpt\u001b[49m\u001b[43m(\u001b[49m\u001b[38;5;124;43m\"\u001b[39;49m\u001b[38;5;124;43m/tmp/test/checkpoint-6\u001b[39;49m\u001b[38;5;124;43m\"\u001b[39;49m\u001b[43m,\u001b[49m\u001b[43m \u001b[49m\u001b[43mexpert_name\u001b[49m\u001b[38;5;241;43m=\u001b[39;49m\u001b[38;5;124;43m\"\u001b[39;49m\u001b[38;5;124;43mtest\u001b[39;49m\u001b[38;5;124;43m\"\u001b[39;49m\u001b[43m)\u001b[49m\n",
      "File \u001b[0;32m~/microsoft_mttl/projects/modular_llm_hf/../../mttl/models/library/expert_library.py:1183\u001b[0m, in \u001b[0;36mExpertLibrary.add_expert_from_ckpt\u001b[0;34m(self, ckpt_path, expert_name, force)\u001b[0m\n\u001b[1;32m   1179\u001b[0m \u001b[38;5;28;01mdef\u001b[39;00m \u001b[38;5;21madd_expert_from_ckpt\u001b[39m(\n\u001b[1;32m   1180\u001b[0m     \u001b[38;5;28mself\u001b[39m, ckpt_path: \u001b[38;5;28mstr\u001b[39m, expert_name: \u001b[38;5;28mstr\u001b[39m \u001b[38;5;241m=\u001b[39m \u001b[38;5;28;01mNone\u001b[39;00m, force: \u001b[38;5;28mbool\u001b[39m \u001b[38;5;241m=\u001b[39m \u001b[38;5;28;01mFalse\u001b[39;00m\n\u001b[1;32m   1181\u001b[0m ):\n\u001b[1;32m   1182\u001b[0m     expert_dump \u001b[38;5;241m=\u001b[39m load_expert(ckpt_path, expert_name\u001b[38;5;241m=\u001b[39mexpert_name)\n\u001b[0;32m-> 1183\u001b[0m     \u001b[38;5;28;43mself\u001b[39;49m\u001b[38;5;241;43m.\u001b[39;49m\u001b[43madd_expert\u001b[49m\u001b[43m(\u001b[49m\u001b[43mexpert_dump\u001b[49m\u001b[43m,\u001b[49m\u001b[43m \u001b[49m\u001b[43mexpert_name\u001b[49m\u001b[38;5;241;43m=\u001b[39;49m\u001b[43mexpert_name\u001b[49m\u001b[43m,\u001b[49m\u001b[43m \u001b[49m\u001b[43mforce\u001b[49m\u001b[38;5;241;43m=\u001b[39;49m\u001b[43mforce\u001b[49m\u001b[43m)\u001b[49m\n",
      "File \u001b[0;32m~/microsoft_mttl/projects/modular_llm_hf/../../mttl/models/library/expert_library.py:825\u001b[0m, in \u001b[0;36mExpertLibrary.add_expert\u001b[0;34m(self, expert_dump, expert_name, force)\u001b[0m\n\u001b[1;32m    822\u001b[0m     \u001b[38;5;28;01mraise\u001b[39;00m \u001b[38;5;167;01mValueError\u001b[39;00m(\u001b[38;5;124m\"\u001b[39m\u001b[38;5;124mExpert name cannot contain dots.\u001b[39m\u001b[38;5;124m\"\u001b[39m)\n\u001b[1;32m    824\u001b[0m \u001b[38;5;66;03m# convert to metadata entry\u001b[39;00m\n\u001b[0;32m--> 825\u001b[0m metadata \u001b[38;5;241m=\u001b[39m \u001b[43mMetadataEntry\u001b[49m\u001b[38;5;241;43m.\u001b[39;49m\u001b[43mfromdict\u001b[49m\u001b[43m(\u001b[49m\u001b[43mexpert_dump\u001b[49m\u001b[38;5;241;43m.\u001b[39;49m\u001b[43mexpert_info\u001b[49m\u001b[38;5;241;43m.\u001b[39;49m\u001b[43masdict\u001b[49m\u001b[43m(\u001b[49m\u001b[43m)\u001b[49m\u001b[43m)\u001b[49m\n\u001b[1;32m    827\u001b[0m \u001b[38;5;28mself\u001b[39m\u001b[38;5;241m.\u001b[39m_upload_weights(metadata\u001b[38;5;241m.\u001b[39mexpert_name, expert_dump)\n\u001b[1;32m    828\u001b[0m \u001b[38;5;28mself\u001b[39m\u001b[38;5;241m.\u001b[39m_upload_metadata(metadata)\n",
      "File \u001b[0;32m~/microsoft_mttl/projects/modular_llm_hf/../../mttl/models/library/expert_library.py:82\u001b[0m, in \u001b[0;36mMetadataEntry.fromdict\u001b[0;34m(cls, data)\u001b[0m\n\u001b[1;32m     80\u001b[0m \u001b[38;5;129m@classmethod\u001b[39m\n\u001b[1;32m     81\u001b[0m \u001b[38;5;28;01mdef\u001b[39;00m \u001b[38;5;21mfromdict\u001b[39m(\u001b[38;5;28mcls\u001b[39m, data):\n\u001b[0;32m---> 82\u001b[0m     metadata_entry \u001b[38;5;241m=\u001b[39m \u001b[38;5;28;43msuper\u001b[39;49m\u001b[43m(\u001b[49m\u001b[43mMetadataEntry\u001b[49m\u001b[43m,\u001b[49m\u001b[43m \u001b[49m\u001b[38;5;28;43mcls\u001b[39;49m\u001b[43m)\u001b[49m\u001b[38;5;241;43m.\u001b[39;49m\u001b[43mfromdict\u001b[49m\u001b[43m(\u001b[49m\u001b[43mdata\u001b[49m\u001b[43m)\u001b[49m\n\u001b[1;32m     83\u001b[0m     metadata_entry\u001b[38;5;241m.\u001b[39mexpert_deleted \u001b[38;5;241m=\u001b[39m data\u001b[38;5;241m.\u001b[39mget(\u001b[38;5;124m\"\u001b[39m\u001b[38;5;124mexpert_deleted\u001b[39m\u001b[38;5;124m\"\u001b[39m, \u001b[38;5;28;01mFalse\u001b[39;00m)\n\u001b[1;32m     84\u001b[0m     \u001b[38;5;28;01mreturn\u001b[39;00m metadata_entry\n",
      "File \u001b[0;32m~/microsoft_mttl/projects/modular_llm_hf/../../mttl/models/library/expert.py:33\u001b[0m, in \u001b[0;36mExpertInfo.fromdict\u001b[0;34m(cls, data)\u001b[0m\n\u001b[1;32m     31\u001b[0m \u001b[38;5;129m@classmethod\u001b[39m\n\u001b[1;32m     32\u001b[0m \u001b[38;5;28;01mdef\u001b[39;00m \u001b[38;5;21mfromdict\u001b[39m(\u001b[38;5;28mcls\u001b[39m, data):\n\u001b[0;32m---> 33\u001b[0m     \u001b[38;5;28;01mfrom\u001b[39;00m \u001b[38;5;21;01mmttl\u001b[39;00m\u001b[38;5;21;01m.\u001b[39;00m\u001b[38;5;21;01marguments\u001b[39;00m \u001b[38;5;28;01mimport\u001b[39;00m AutoArgs, AutoModifierConfig\n\u001b[1;32m     35\u001b[0m     data[\u001b[38;5;124m'\u001b[39m\u001b[38;5;124mexpert_config\u001b[39m\u001b[38;5;124m'\u001b[39m] \u001b[38;5;241m=\u001b[39m AutoModifierConfig\u001b[38;5;241m.\u001b[39mfromdict(data[\u001b[38;5;124m\"\u001b[39m\u001b[38;5;124mexpert_config\u001b[39m\u001b[38;5;124m\"\u001b[39m])\n\u001b[1;32m     36\u001b[0m     data[\u001b[38;5;124m'\u001b[39m\u001b[38;5;124mtraining_config\u001b[39m\u001b[38;5;124m'\u001b[39m] \u001b[38;5;241m=\u001b[39m AutoArgs\u001b[38;5;241m.\u001b[39mfromdict(data[\u001b[38;5;124m\"\u001b[39m\u001b[38;5;124mtraining_config\u001b[39m\u001b[38;5;124m\"\u001b[39m])\n",
      "\u001b[0;31mImportError\u001b[0m: cannot import name 'AutoModifierConfig' from 'mttl.arguments' (/home/alsordon/microsoft_mttl/projects/modular_llm_hf/../../mttl/arguments.py)"
     ]
    }
   ],
   "source": [
    "library.add_expert_from_ckpt(\"/tmp/test/checkpoint-6\", expert_name=\"test\")"
   ]
  },
  {
   "cell_type": "code",
   "execution_count": null,
   "metadata": {},
   "outputs": [],
   "source": []
  }
 ],
 "metadata": {
  "kernelspec": {
   "display_name": "py310",
   "language": "python",
   "name": "python3"
  },
  "language_info": {
   "codemirror_mode": {
    "name": "ipython",
    "version": 3
   },
   "file_extension": ".py",
   "mimetype": "text/x-python",
   "name": "python",
   "nbconvert_exporter": "python",
   "pygments_lexer": "ipython3",
   "version": "3.10.14"
  }
 },
 "nbformat": 4,
 "nbformat_minor": 2
}
