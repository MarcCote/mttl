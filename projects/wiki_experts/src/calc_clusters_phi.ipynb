{
 "cells": [
  {
   "cell_type": "code",
   "execution_count": 6,
   "metadata": {},
   "outputs": [
    {
     "name": "stdout",
     "output_type": "stream",
     "text": [
      "The autoreload extension is already loaded. To reload it, use:\n",
      "  %reload_ext autoreload\n"
     ]
    }
   ],
   "source": [
    "%load_ext autoreload\n",
    "%autoreload 2\n",
    "import os\n",
    "from huggingface_hub import login\n",
    "from collections import defaultdict\n",
    "from projects.wiki_experts.src.evolution.utils import get_svd_embedding\n",
    "\n",
    "from mttl.models.modifiers.expert_containers.expert_library import LocalExpertLibrary,  HFExpertLibrary\n",
    "from mttl.models.modifiers.expert_containers.library_transforms import SVDEmbeddingTransform, SVDEmbeddingTransformConfig\n",
    "from huggingface_hub import login, HfApi\n",
    "import numpy as np\n",
    "from sklearn.cluster import KMeans\n",
    "from sklearn.metrics.pairwise import cosine_similarity"
   ]
  },
  {
   "cell_type": "markdown",
   "metadata": {},
   "source": [
    "## Create clsuters"
   ]
  },
  {
   "cell_type": "code",
   "execution_count": 19,
   "metadata": {},
   "outputs": [
    {
     "name": "stdout",
     "output_type": "stream",
     "text": [
      "Token will not been saved to git credential helper. Pass `add_to_git_credential=True` if you want to set the git credential as well.\n",
      "Token is valid (permission: write).\n",
      "Your token has been saved to /home/v-oostapenko/.cache/huggingface/token\n",
      "Login successful\n"
     ]
    }
   ],
   "source": [
    "hf_api_key = os.environ[\"HF_TOKEN\"]\n",
    "login(token=hf_api_key)\n",
    "user = HfApi(token=hf_api_key).whoami()\n",
    "# hf_repo_id = \"sordonia/library-phi_2-v3\"\n",
    "hf_repo_id = \"sordonia/library-phi_2-v3-2epc\"\n",
    "local_lib_location = f\"/tmp/{hf_repo_id}\"\n",
    "if not os.path.exists(local_lib_location):\n",
    "    os.makedirs(local_lib_location)\n",
    "    expert_lib: LocalExpertLibrary = LocalExpertLibrary.create_from_remote(\n",
    "        HFExpertLibrary(hf_repo_id), local_lib_location\n",
    "    )\n",
    "else:\n",
    "    expert_lib: LocalExpertLibrary = LocalExpertLibrary(local_lib_location)\n",
    "\n",
    "experts_to_remove = [\n",
    "    \"bool_q_1_0_0\",\n",
    "    \"ai2_arc_ARC_Easy_1_0_0\",\n",
    "    \"openbookqa_0_1_0\",\n",
    "    \"ai2_arc_ARC_Challenge_1_0_0\",\n",
    "    \"hellaswag_1_1_0\",\n",
    "    \"piqa_1_0_0\",\n",
    "    \"winogrande_1_1_0\",\n",
    "]\n",
    "for expert_name in experts_to_remove:\n",
    "    if expert_name in expert_lib:\n",
    "        expert_lib.remove_expert(expert_name)\n",
    "assert len(expert_lib) == 256"
   ]
  },
  {
   "cell_type": "code",
   "execution_count": 20,
   "metadata": {},
   "outputs": [],
   "source": [
    "def create_embeddings():\n",
    "    svd_embedder = SVDEmbeddingTransform(\n",
    "        SVDEmbeddingTransformConfig(sparsity_threshold=0.5)\n",
    "    )\n",
    "    embeddings, svd = svd_embedder.transform(expert_lib, upload_to_hf=True)\n",
    "    del svd_embedder\n",
    "    return embeddings, svd\n",
    "\n",
    "\n",
    "embeds = expert_lib.get_auxiliary_data(\"embeddings\")\n",
    "if len(embeds) == 0:\n",
    "    print(\"creating embeddings\")\n",
    "    _, svd = create_embeddings()\n",
    "\n",
    "# module to embedding\n",
    "module2embed = {}\n",
    "for n, m in expert_lib.items():\n",
    "    module2embed[n] = get_svd_embedding(expert_lib, n)"
   ]
  },
  {
   "cell_type": "code",
   "execution_count": 25,
   "metadata": {},
   "outputs": [],
   "source": [
    "# Extract the embeddings as a numpy array\n",
    "embeddings = np.array(list(module2embed.values()))\n",
    "cosine_sim_matrix = cosine_similarity(embeddings, embeddings)\n",
    "K = 25\n",
    "kmeans = KMeans(n_clusters=K, init=\"k-means++\", n_init=10, random_state=42)\n",
    "kmeans.fit(cosine_sim_matrix)\n",
    "cluster_labels = kmeans.labels_"
   ]
  },
  {
   "cell_type": "code",
   "execution_count": 32,
   "metadata": {},
   "outputs": [
    {
     "name": "stdout",
     "output_type": "stream",
     "text": [
      "Cluster 7 has 37 elements\n",
      "c7o10_2e = ['glue_sst2_2_0_0', 'super_glue_rte_1_0_2', 'wiki_qa_found_on_google', 'app_reviews_categorize_rating_using_review', 'super_glue_wic_1_0_2', 'yelp_polarity_reviews_0_2_0', 'anli_r3_0_1_0', 'super_glue_cb_1_0_2', 'glue_cola_2_0_0', 'paws_wiki_1_1_0', 'super_glue_wsc_fixed_1_0_2', 'cot_creak', 'wiki_qa_Is_This_True_', 'super_glue_multirc_1_0_2', 'snli_1_1_0', 'cot_strategyqa', 'glue_qqp_2_0_0', 'imdb_reviews_plain_text_1_0_0', 'wiki_qa_exercise', 'wiki_qa_automatic_system', 'cot_creak_ii', 'anli_r2_0_1_0', 'qasc_is_correct_1', 'anli_r1_0_1_0', 'glue_stsb_2_0_0', 'glue_qnli_2_0_0', 'cot_sensemaking_ii', 'glue_mnli_2_0_0', 'super_glue_copa_1_0_2', 'social_i_qa_Check_if_a_random_answer_is_valid_or_not', 'qasc_is_correct_2', 'cosmos_qa_1_0_0', 'wiki_qa_Decide_good_answer', 'definite_pronoun_resolution_1_1_0', 'glue_wnli_2_0_0', 'glue_mrpc_2_0_0', 'cot_strategyqa_ii']\n",
      "Cluster 3 has 29 elements\n",
      "c3o10_2e = ['dream_read_the_following_conversation_and_answer_the_question', 'cos_e_v1_11_question_option_description_text', 'cos_e_v1_11_rationale', 'sciq_Direct_Question_Closed_Book_', 'qasc_qa_with_separated_facts_3', 'sciq_Multiple_Choice', 'cos_e_v1_11_generate_explanation_given_text', 'cos_e_v1_11_question_description_option_text', 'sciq_Direct_Question', 'qasc_qa_with_separated_facts_2', 'cos_e_v1_11_i_think', 'cos_e_v1_11_question_option_description_id', 'cot_ecqa_ii', 'qasc_qa_with_separated_facts_5', 'dream_baseline', 'adversarial_qa_dbert_answer_the_following_q', 'cos_e_v1_11_question_description_option_id', 'qasc_qa_with_separated_facts_1', 'cos_e_v1_11_explain_why_human', 'cos_e_v1_11_description_question_option_text', 'qasc_qa_with_combined_facts_1', 'cos_e_v1_11_description_question_option_id', 'cos_e_v1_11_aligned_with_common_sense', 'adversarial_qa_dbidaf_answer_the_following_q', 'adversarial_qa_droberta_answer_the_following_q', 'social_i_qa_Show_choices_and_generate_index', 'sciq_Multiple_Choice_Closed_Book_', 'qasc_qa_with_separated_facts_4', 'sciq_Multiple_Choice_Question_First']\n",
      "Cluster 1 has 29 elements\n",
      "c1o10_2e = ['race_middle_Read_the_article_and_answer_the_question_no_option_', 'race_high_Select_the_best_answer', 'quail_description_context_question_answer_id', 'quail_context_question_description_text', 'race_middle_Is_this_the_right_answer', 'race_high_Read_the_article_and_answer_the_question_no_option_', 'race_high_Select_the_best_answer_no_instructions_', 'quail_context_description_question_answer_id', 'race_high_Taking_a_test', 'race_middle_Select_the_best_answer', 'quail_context_question_description_answer_id', 'race_high_Is_this_the_right_answer', 'quail_description_context_question_answer_text', 'quail_context_question_answer_description_text', 'race_high_Select_the_best_answer_generate_span_', 'race_middle_Select_the_best_answer_generate_span_', 'race_middle_Write_a_multi_choice_question_for_the_following_article', 'quail_context_question_answer_description_id', 'quail_context_description_question_answer_text', 'race_high_Write_a_multi_choice_question_for_the_following_article', 'quail_context_description_question_text', 'quail_context_question_description_answer_text', 'quail_description_context_question_text', 'race_high_Write_a_multi_choice_question_options_given_', 'race_middle_Taking_a_test', 'race_middle_Write_a_multi_choice_question_options_given_', 'quail_no_prompt_id', 'quail_no_prompt_text', 'race_middle_Select_the_best_answer_no_instructions_']\n",
      "Cluster 4 has 66 elements\n",
      "c4o10_2e = ['adversarial_qa_droberta_generate_question', 'adversarial_qa_dbidaf_question_context_answer', 'app_reviews_convert_to_star_rating', 'true_case', 'wiqa_what_might_be_the_first_step_of_the_process', 'stream_qed', 'huggingface_xsum', 'wiqa_what_is_the_final_step_of_the_following_process', 'cot_esnli', 'social_i_qa_Show_choices_and_generate_answer', 'cot_gsm8k', 'cot_sensemaking', 'super_glue_record_1_0_2', 'lambada_1_0_0', 'dream_generate_last_utterance', 'wiki_qa_Topic_Prediction_Answer_Only', 'ag_news_subset_1_0_0', 'gem_dart_1_1_0', 'wiqa_what_might_be_the_last_step_of_the_process', 'wiki_bio_key_content', 'gem_common_gen_1_1_0', 'cot_gsm8k_ii', 'math_dataset_algebra__linear_1d_1_0_0', 'unified_qa_science_inst', 'stream_aqua', 'dbpedia_14_pick_one_category_for_the_following_text', 'dbpedia_14_given_a_choice_of_categories_', 'cnn_dailymail_3_4_0', 'duorc_SelfRC_build_story_around_qa', 'adversarial_qa_dbidaf_generate_question', 'app_reviews_convert_to_rating', 'dbpedia_14_given_list_what_category_does_the_paragraph_belong_to', 'gem_wiki_lingua_english_en_1_1_0', 'fix_punct', 'gigaword_1_2_0', 'dbpedia_14_given_a_list_of_category_what_does_the_title_belong_to', 'gem_web_nlg_en_1_1_0', 'adversarial_qa_droberta_question_context_answer', 'word_segment', 'app_reviews_generate_review', 'wiki_bio_what_content', 'stream_qed_ii', 'wiki_bio_guess_person', 'cot_ecqa', 'wiki_bio_who', 'wiki_qa_Topic_Prediction_Question_Only', 'aeslc_1_0_0', 'dream_generate_first_utterance', 'dream_answer_to_dialogue', 'social_i_qa_Generate_the_question_from_the_answer', 'gem_e2e_nlg_1_1_0', 'social_i_qa_I_was_wondering', 'adversarial_qa_dbert_generate_question', 'wiki_qa_Topic_Prediction_Question_and_Answer_Pair', 'cot_esnli_ii', 'wiki_qa_Jeopardy_style', 'wiki_qa_Generate_Question_from_Topic', 'wiqa_what_is_the_missing_first_step', 'wiki_bio_comprehension', 'cot_qasc', 'adversarial_qa_dbert_question_context_answer', 'coqa_1_0_0', 'social_i_qa_Generate_answer', 'duorc_ParaphraseRC_build_story_around_qa', 'stream_aqua_ii', 'multi_news_1_0_0']\n",
      "Cluster 5 has 29 elements\n",
      "c5o10_2e = ['ropes_background_new_situation_answer', 'ropes_prompt_bottom_no_hint', 'quartz_answer_question_based_on', 'ropes_plain_background_situation', 'quartz_given_the_fact_answer_the_q', 'quartz_answer_question_below', 'wiqa_does_the_supposed_perturbation_have_an_effect', 'quartz_use_info_from_question_paragraph', 'wiqa_which_of_the_following_is_the_supposed_perturbation', 'ropes_new_situation_background_answer', 'ropes_given_background_situation', 'ropes_prompt_bottom_hint_beginning', 'wiqa_effect_with_string_answer', 'quarel_do_not_use', 'ropes_prompt_beginning', 'quartz_having_read_above_passage', 'ropes_read_background_situation', 'ropes_plain_bottom_hint', 'quarel_heres_a_story', 'ropes_plain_no_background', 'quarel_choose_between', 'quartz_use_info_from_paragraph_question', 'quarel_testing_students', 'quartz_read_passage_below_choose', 'wiqa_effect_with_label_answer', 'quartz_paragraph_question_plain_concat', 'ropes_prompt_mix', 'quarel_logic_test', 'ropes_background_situation_middle']\n",
      "Cluster 0 has 17 elements\n",
      "c0o10_2e = ['trec_1_0_0', 'natural_questions_open_1_0_0', 'web_questions_whats_the_answer', 'kilt_tasks_hotpotqa_final_exam', 'wiki_qa_Direct_Answer_to_Question', 'web_questions_question_answer', 'kilt_tasks_hotpotqa_combining_facts', 'web_questions_short_general_knowledge_q', 'kilt_tasks_hotpotqa_straighforward_qa', 'web_questions_get_the_answer', 'kilt_tasks_hotpotqa_complex_question', 'squad_v2_0_3_0_0', 'web_questions_potential_correct_answer', 'trivia_qa_rc_1_1_0', 'kilt_tasks_hotpotqa_formulate', 'drop_2_0_0', 'squad_v1_1_3_0_0']\n",
      "Cluster 6 has 31 elements\n",
      "c6o10_2e = ['quoref_Context_Contains_Answer', 'duorc_SelfRC_generate_question_by_answer', 'quoref_Find_Answer', 'duorc_ParaphraseRC_movie_director', 'duorc_ParaphraseRC_answer_question', 'quoref_Found_Context_Online', 'adversarial_qa_droberta_tell_what_it_is', 'quoref_Read_And_Extract_', 'duorc_ParaphraseRC_title_generation', 'duorc_ParaphraseRC_decide_worth_it', 'quoref_What_Is_The_Answer', 'duorc_ParaphraseRC_generate_question', 'quoref_Guess_Title_For_Context', 'quac_1_0_0', 'quoref_Answer_Test', 'duorc_SelfRC_question_answering', 'duorc_SelfRC_title_generation', 'duorc_ParaphraseRC_generate_question_by_answer', 'duorc_ParaphraseRC_extract_answer', 'duorc_SelfRC_answer_question', 'duorc_SelfRC_decide_worth_it', 'duorc_ParaphraseRC_question_answering', 'quoref_Answer_Question_Given_Context', 'adversarial_qa_dbert_tell_what_it_is', 'duorc_SelfRC_extract_answer', 'quoref_Guess_Answer', 'quoref_Answer_Friend_Question', 'duorc_SelfRC_movie_director', 'duorc_SelfRC_generate_question', 'quoref_Given_Context_Answer_Question', 'adversarial_qa_dbidaf_tell_what_it_is']\n",
      "Cluster 9 has 6 elements\n",
      "c9o10_2e = ['wmt16_translate_ro_en_1_0_0', 'wmt16_translate_de_en_1_0_0', 'wmt16_translate_fi_en_1_0_0', 'para_crawl_enes', 'wmt14_translate_fr_en_1_0_0', 'wmt16_translate_tr_en_1_0_0']\n",
      "Cluster 8 has 9 elements\n",
      "c8o10_2e = ['wiki_hop_original_generate_object', 'wiki_hop_original_choose_best_object_affirmative_3', 'wiki_hop_original_choose_best_object_interrogative_1', 'wiki_hop_original_explain_relation', 'wiki_hop_original_choose_best_object_affirmative_1', 'wiki_hop_original_choose_best_object_interrogative_2', 'wiki_hop_original_generate_subject', 'wiki_hop_original_choose_best_object_affirmative_2', 'wiki_hop_original_generate_subject_and_object']\n",
      "Cluster 2 has 3 elements\n",
      "c2o10_2e = ['adversarial_qa_droberta_based_on', 'adversarial_qa_dbert_based_on', 'adversarial_qa_dbidaf_based_on']\n"
     ]
    }
   ],
   "source": [
    "clusters = defaultdict(list)\n",
    "# Print the cluster labels for each embedding\n",
    "for key, label in zip(module2embed.keys(), cluster_labels_direct):\n",
    "    clusters[label].append(key)\n",
    "\n",
    "for c, l in clusters.items():\n",
    "    print(f\"Cluster {c} has {len(l)} elements\")\n",
    "    print(f\"c{c}o{K}_2e = {l}\")"
   ]
  },
  {
   "cell_type": "markdown",
   "metadata": {},
   "source": [
    "### Rand score"
   ]
  },
  {
   "cell_type": "code",
   "execution_count": 14,
   "metadata": {},
   "outputs": [],
   "source": [
    "from sklearn.metrics.cluster import adjusted_rand_score"
   ]
  },
  {
   "cell_type": "code",
   "execution_count": 29,
   "metadata": {},
   "outputs": [
    {
     "data": {
      "text/plain": [
       "0.47611902409439244"
      ]
     },
     "execution_count": 29,
     "metadata": {},
     "output_type": "execute_result"
    }
   ],
   "source": [
    "adjusted_rand_score(cluster_labels, cluster_labels_direct)"
   ]
  },
  {
   "cell_type": "markdown",
   "metadata": {},
   "source": [
    "# Save svd file"
   ]
  },
  {
   "cell_type": "code",
   "execution_count": null,
   "metadata": {},
   "outputs": [],
   "source": [
    "hf_api_key = os.environ[\"HF_TOKEN\"]\n",
    "login(token=hf_api_key)\n",
    "user = HfApi(token=hf_api_key).whoami()\n",
    "hf_repo_id = \"ostapeno/library-phi_2-v3-10-flan-clusters\"\n",
    "local_lib_location = f\"/tmp/{hf_repo_id}\"\n",
    "if not os.path.exists(local_lib_location):\n",
    "    os.makedirs(local_lib_location)\n",
    "    expert_lib: LocalExpertLibrary = LocalExpertLibrary.create_from_remote(\n",
    "        HFExpertLibrary(hf_repo_id), local_lib_location\n",
    "    )\n",
    "else:\n",
    "    expert_lib: LocalExpertLibrary = LocalExpertLibrary(local_lib_location)"
   ]
  },
  {
   "cell_type": "code",
   "execution_count": null,
   "metadata": {},
   "outputs": [],
   "source": [
    "_, svd = create_embeddings()"
   ]
  },
  {
   "cell_type": "code",
   "execution_count": null,
   "metadata": {},
   "outputs": [],
   "source": [
    "# upload embeddings\n",
    "remote_lib = HFExpertLibrary.from_local(\n",
    "    expert_lib,\n",
    "    hf_repo_id,\n",
    "    force=True,\n",
    "    upload_aux_data=True,\n",
    ")"
   ]
  },
  {
   "cell_type": "code",
   "execution_count": null,
   "metadata": {},
   "outputs": [],
   "source": [
    "import pickle\n",
    "# To save\n",
    "pickle.dump(svd, open(\"svd.pkl\", \"wb\"))"
   ]
  }
 ],
 "metadata": {
  "kernelspec": {
   "display_name": "comp_3.9",
   "language": "python",
   "name": "python3"
  },
  "language_info": {
   "codemirror_mode": {
    "name": "ipython",
    "version": 3
   },
   "file_extension": ".py",
   "mimetype": "text/x-python",
   "name": "python",
   "nbconvert_exporter": "python",
   "pygments_lexer": "ipython3",
   "version": "3.9.18"
  }
 },
 "nbformat": 4,
 "nbformat_minor": 2
}
