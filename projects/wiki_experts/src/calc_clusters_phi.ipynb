{
 "cells": [
  {
   "cell_type": "code",
   "execution_count": 1,
   "metadata": {},
   "outputs": [
    {
     "name": "stderr",
     "output_type": "stream",
     "text": [
      "/anaconda/envs/comp_3.9/lib/python3.9/site-packages/torchvision/io/image.py:13: UserWarning: Failed to load image Python extension: '/anaconda/envs/comp_3.9/lib/python3.9/site-packages/torchvision/image.so: undefined symbol: _ZN3c104cuda9SetDeviceEi'If you don't plan on using image functionality from `torchvision.io`, you can ignore this warning. Otherwise, there might be something wrong with your environment. Did you have `libjpeg` or `libpng` installed before building `torchvision` from source?\n",
      "  warn(\n"
     ]
    },
    {
     "name": "stdout",
     "output_type": "stream",
     "text": [
      "Registering modifier...lora\n",
      "Registering modifier...poly\n",
      "Registering modifier...per_token_poly\n",
      "Registering modifier...skilled\n",
      "Registering modifier...kv_adapter\n",
      "Registering modifier...poly_kv_adapter\n",
      "Registering modifier...prompt_tuning\n",
      "Registering modifier...poly_prompt_tuning\n",
      "Registering modifier...hard_prompt\n",
      "Registering multi-expert selector...poly_router\n",
      "Registering multi-expert selector...moe_rkhs_router\n",
      "Registering multi-expert selector...zero_router\n",
      "Registering multi-expert selector...zero_per_token_router\n",
      "Registering multi-expert selector...poly_router_dir\n",
      "Registering multi-expert selector...info_selector\n",
      "Registering multi-expert selector...task_selector\n",
      "Registering multi-expert selector...kv_task_selector\n",
      "Registering multi-expert selector...kv_concat_selector\n",
      "Registering multi-expert selector...kv_norm_selector\n",
      "Registering multi-expert selector...kv_concat_norm_selector\n",
      "Registering multi-expert selector...kv_task_norm_selector\n"
     ]
    }
   ],
   "source": [
    "%load_ext autoreload\n",
    "%autoreload 2\n",
    "import os\n",
    "from huggingface_hub import login\n",
    "from collections import defaultdict\n",
    "from projects.wiki_experts.src.evolution.utils import get_svd_embedding\n",
    "\n",
    "from mttl.models.modifiers.expert_containers.expert_library import LocalExpertLibrary,  HFExpertLibrary\n",
    "from mttl.models.modifiers.expert_containers.library_transforms import SVDEmbeddingTransform, SVDEmbeddingTransformConfig\n",
    "from huggingface_hub import login, HfApi\n",
    "import numpy as np\n",
    "from sklearn.cluster import KMeans\n",
    "from sklearn.metrics.pairwise import cosine_similarity"
   ]
  },
  {
   "cell_type": "markdown",
   "metadata": {},
   "source": [
    "## Create clsuters"
   ]
  },
  {
   "cell_type": "code",
   "execution_count": 2,
   "metadata": {},
   "outputs": [
    {
     "name": "stdout",
     "output_type": "stream",
     "text": [
      "Token will not been saved to git credential helper. Pass `add_to_git_credential=True` if you want to set the git credential as well.\n",
      "Token is valid (permission: write).\n",
      "Your token has been saved to /home/v-oostapenko/.cache/huggingface/token\n",
      "Login successful\n"
     ]
    }
   ],
   "source": [
    "hf_api_key = os.environ[\"HF_TOKEN\"]\n",
    "login(token=hf_api_key)\n",
    "user = HfApi(token=hf_api_key).whoami()\n",
    "# hf_repo_id = \"sordonia/library-phi_2-v3\"\n",
    "hf_repo_id = \"sordonia/library-phi_2-v3-2epc\"\n",
    "local_lib_location = f\"/tmp/{hf_repo_id}\"\n",
    "if not os.path.exists(local_lib_location):\n",
    "    os.makedirs(local_lib_location)\n",
    "    expert_lib: LocalExpertLibrary = LocalExpertLibrary.create_from_remote(\n",
    "        HFExpertLibrary(hf_repo_id), local_lib_location\n",
    "    )\n",
    "else:\n",
    "    expert_lib: LocalExpertLibrary = LocalExpertLibrary(local_lib_location)\n",
    "\n",
    "experts_to_remove = [\n",
    "    \"bool_q_1_0_0\",\n",
    "    \"ai2_arc_ARC_Easy_1_0_0\",\n",
    "    \"openbookqa_0_1_0\",\n",
    "    \"ai2_arc_ARC_Challenge_1_0_0\",\n",
    "    \"hellaswag_1_1_0\",\n",
    "    \"piqa_1_0_0\",\n",
    "    \"winogrande_1_1_0\",\n",
    "]\n",
    "for expert_name in experts_to_remove:\n",
    "    if expert_name in expert_lib:\n",
    "        expert_lib.remove_expert(expert_name)\n",
    "assert len(expert_lib) == 256"
   ]
  },
  {
   "cell_type": "code",
   "execution_count": 3,
   "metadata": {},
   "outputs": [],
   "source": [
    "def create_embeddings():\n",
    "    svd_embedder = SVDEmbeddingTransform(\n",
    "        SVDEmbeddingTransformConfig(sparsity_threshold=0.5)\n",
    "    )\n",
    "    embeddings, svd = svd_embedder.transform(expert_lib, upload_to_hf=True)\n",
    "    del svd_embedder\n",
    "    return embeddings, svd\n",
    "\n",
    "\n",
    "embeds = expert_lib.get_auxiliary_data(\"embeddings\")\n",
    "if len(embeds) == 0:\n",
    "    print(\"creating embeddings\")\n",
    "    _, svd = create_embeddings()\n",
    "\n",
    "# module to embedding\n",
    "module2embed = {}\n",
    "for n, m in expert_lib.items():\n",
    "    module2embed[n] = get_svd_embedding(expert_lib, n)"
   ]
  },
  {
   "cell_type": "code",
   "execution_count": 4,
   "metadata": {},
   "outputs": [],
   "source": [
    "# Extract the embeddings as a numpy array\n",
    "embeddings = np.array(list(module2embed.values()))\n",
    "cosine_sim_matrix = cosine_similarity(embeddings, embeddings)\n",
    "K = 5 # 10 ,15, 25\n",
    "kmeans = KMeans(n_clusters=K, init=\"k-means++\", n_init=10, random_state=42)\n",
    "kmeans.fit(cosine_sim_matrix)\n",
    "cluster_labels = kmeans.labels_"
   ]
  },
  {
   "cell_type": "code",
   "execution_count": 5,
   "metadata": {},
   "outputs": [
    {
     "name": "stdout",
     "output_type": "stream",
     "text": [
      "c0o5_2e = ['glue_sst2_2_0_0', 'adversarial_qa_droberta_generate_question', 'true_case', 'stream_qed', 'cot_esnli', 'cot_sensemaking', 'trec_1_0_0', 'super_glue_wic_1_0_2', 'yelp_polarity_reviews_0_2_0', 'cos_e_v1_11_rationale', 'natural_questions_open_1_0_0', 'web_questions_whats_the_answer', 'anli_r3_0_1_0', 'lambada_1_0_0', 'dream_generate_last_utterance', 'glue_cola_2_0_0', 'ag_news_subset_1_0_0', 'paws_wiki_1_1_0', 'cos_e_v1_11_generate_explanation_given_text', 'cot_creak', 'math_dataset_algebra__linear_1d_1_0_0', 'web_questions_question_answer', 'stream_aqua', 'dbpedia_14_pick_one_category_for_the_following_text', 'dbpedia_14_given_a_choice_of_categories_', 'web_questions_short_general_knowledge_q', 'cnn_dailymail_3_4_0', 'kilt_tasks_hotpotqa_straighforward_qa', 'adversarial_qa_dbidaf_generate_question', 'snli_1_1_0', 'cos_e_v1_11_i_think', 'wiki_hop_original_explain_relation', 'dbpedia_14_given_list_what_category_does_the_paragraph_belong_to', 'fix_punct', 'imdb_reviews_plain_text_1_0_0', 'race_middle_Write_a_multi_choice_question_for_the_following_article', 'web_questions_get_the_answer', 'dbpedia_14_given_a_list_of_category_what_does_the_title_belong_to', 'cos_e_v1_11_explain_why_human', 'word_segment', 'anli_r2_0_1_0', 'race_high_Write_a_multi_choice_question_for_the_following_article', 'trivia_qa_rc_1_1_0', 'wmt16_translate_de_en_1_0_0', 'anli_r1_0_1_0', 'cot_ecqa', 'glue_stsb_2_0_0', 'cos_e_v1_11_aligned_with_common_sense', 'dream_generate_first_utterance', 'wmt16_translate_fi_en_1_0_0', 'dream_answer_to_dialogue', 'kilt_tasks_hotpotqa_formulate', 'para_crawl_enes', 'race_high_Write_a_multi_choice_question_options_given_', 'social_i_qa_I_was_wondering', 'adversarial_qa_dbert_generate_question', 'race_middle_Write_a_multi_choice_question_options_given_', 'wmt14_translate_fr_en_1_0_0', 'glue_mrpc_2_0_0', 'social_i_qa_Generate_answer']\n",
      "c1o5_2e = ['dream_read_the_following_conversation_and_answer_the_question', 'race_middle_Read_the_article_and_answer_the_question_no_option_', 'race_high_Select_the_best_answer', 'quail_description_context_question_answer_id', 'quail_context_question_description_text', 'cos_e_v1_11_question_option_description_text', 'ropes_background_new_situation_answer', 'social_i_qa_Show_choices_and_generate_answer', 'ropes_prompt_bottom_no_hint', 'quartz_answer_question_based_on', 'ropes_plain_background_situation', 'race_high_Read_the_article_and_answer_the_question_no_option_', 'sciq_Direct_Question_Closed_Book_', 'qasc_qa_with_separated_facts_3', 'quartz_given_the_fact_answer_the_q', 'quartz_answer_question_below', 'kilt_tasks_hotpotqa_final_exam', 'race_high_Select_the_best_answer_no_instructions_', 'quail_context_description_question_answer_id', 'sciq_Multiple_Choice', 'race_high_Taking_a_test', 'wiqa_does_the_supposed_perturbation_have_an_effect', 'cos_e_v1_11_question_description_option_text', 'quartz_use_info_from_question_paragraph', 'sciq_Direct_Question', 'qasc_qa_with_separated_facts_2', 'wiqa_which_of_the_following_is_the_supposed_perturbation', 'race_middle_Select_the_best_answer', 'quail_context_question_description_answer_id', 'cos_e_v1_11_question_option_description_id', 'ropes_new_situation_background_answer', 'quail_description_context_question_answer_text', 'ropes_given_background_situation', 'quail_context_question_answer_description_text', 'ropes_prompt_bottom_hint_beginning', 'wiqa_effect_with_string_answer', 'race_high_Select_the_best_answer_generate_span_', 'race_middle_Select_the_best_answer_generate_span_', 'qasc_qa_with_separated_facts_5', 'dream_baseline', 'ropes_prompt_beginning', 'quail_context_question_answer_description_id', 'quartz_having_read_above_passage', 'quail_context_description_question_answer_text', 'cos_e_v1_11_question_description_option_id', 'ropes_read_background_situation', 'qasc_qa_with_separated_facts_1', 'ropes_plain_bottom_hint', 'cos_e_v1_11_description_question_option_text', 'qasc_qa_with_combined_facts_1', 'cos_e_v1_11_description_question_option_id', 'ropes_plain_no_background', 'quail_context_description_question_text', 'quail_context_question_description_answer_text', 'quail_description_context_question_text', 'sciq_Multiple_Choice_Closed_Book_', 'race_middle_Taking_a_test', 'quartz_use_info_from_paragraph_question', 'qasc_qa_with_separated_facts_4', 'cosmos_qa_1_0_0', 'quail_no_prompt_id', 'quartz_read_passage_below_choose', 'quail_no_prompt_text', 'race_middle_Select_the_best_answer_no_instructions_', 'quartz_paragraph_question_plain_concat', 'ropes_prompt_mix', 'ropes_background_situation_middle', 'sciq_Multiple_Choice_Question_First']\n",
      "c3o5_2e = ['adversarial_qa_dbidaf_question_context_answer', 'super_glue_record_1_0_2', 'quoref_Context_Contains_Answer', 'duorc_SelfRC_generate_question_by_answer', 'quoref_Find_Answer', 'duorc_ParaphraseRC_movie_director', 'duorc_ParaphraseRC_answer_question', 'wiki_hop_original_generate_object', 'quoref_Found_Context_Online', 'adversarial_qa_droberta_tell_what_it_is', 'quoref_Read_And_Extract_', 'duorc_ParaphraseRC_title_generation', 'duorc_ParaphraseRC_decide_worth_it', 'kilt_tasks_hotpotqa_combining_facts', 'quoref_What_Is_The_Answer', 'duorc_ParaphraseRC_generate_question', 'wiki_hop_original_choose_best_object_affirmative_3', 'quoref_Guess_Title_For_Context', 'quac_1_0_0', 'quoref_Answer_Test', 'wiki_hop_original_choose_best_object_interrogative_1', 'duorc_SelfRC_question_answering', 'adversarial_qa_droberta_based_on', 'duorc_SelfRC_title_generation', 'duorc_ParaphraseRC_generate_question_by_answer', 'wiki_hop_original_choose_best_object_affirmative_1', 'duorc_ParaphraseRC_extract_answer', 'adversarial_qa_dbert_answer_the_following_q', 'duorc_SelfRC_answer_question', 'wiki_hop_original_choose_best_object_interrogative_2', 'adversarial_qa_droberta_question_context_answer', 'duorc_SelfRC_decide_worth_it', 'duorc_ParaphraseRC_question_answering', 'quoref_Answer_Question_Given_Context', 'squad_v2_0_3_0_0', 'web_questions_potential_correct_answer', 'wiki_hop_original_generate_subject', 'wiki_bio_guess_person', 'adversarial_qa_dbidaf_answer_the_following_q', 'adversarial_qa_droberta_answer_the_following_q', 'adversarial_qa_dbert_tell_what_it_is', 'duorc_SelfRC_extract_answer', 'quoref_Guess_Answer', 'quoref_Answer_Friend_Question', 'wiki_hop_original_choose_best_object_affirmative_2', 'duorc_SelfRC_movie_director', 'adversarial_qa_dbert_based_on', 'duorc_SelfRC_generate_question', 'wiki_hop_original_generate_subject_and_object', 'adversarial_qa_dbidaf_based_on', 'drop_2_0_0', 'adversarial_qa_dbert_question_context_answer', 'quoref_Given_Context_Answer_Question', 'adversarial_qa_dbidaf_tell_what_it_is', 'squad_v1_1_3_0_0']\n",
      "c2o5_2e = ['app_reviews_convert_to_star_rating', 'super_glue_rte_1_0_2', 'wiki_qa_found_on_google', 'app_reviews_categorize_rating_using_review', 'race_middle_Is_this_the_right_answer', 'super_glue_cb_1_0_2', 'wiki_qa_Topic_Prediction_Answer_Only', 'wiki_qa_Direct_Answer_to_Question', 'super_glue_wsc_fixed_1_0_2', 'cot_gsm8k_ii', 'wiki_qa_Is_This_True_', 'unified_qa_science_inst', 'super_glue_multirc_1_0_2', 'app_reviews_convert_to_rating', 'race_high_Is_this_the_right_answer', 'cot_strategyqa', 'cot_ecqa_ii', 'glue_qqp_2_0_0', 'quarel_do_not_use', 'wiki_qa_exercise', 'kilt_tasks_hotpotqa_complex_question', 'wiki_qa_automatic_system', 'cot_creak_ii', 'quarel_heres_a_story', 'qasc_is_correct_1', 'quarel_choose_between', 'stream_qed_ii', 'wiki_qa_Topic_Prediction_Question_Only', 'glue_qnli_2_0_0', 'cot_sensemaking_ii', 'glue_mnli_2_0_0', 'super_glue_copa_1_0_2', 'social_i_qa_Check_if_a_random_answer_is_valid_or_not', 'social_i_qa_Generate_the_question_from_the_answer', 'social_i_qa_Show_choices_and_generate_index', 'qasc_is_correct_2', 'quarel_testing_students', 'wiki_qa_Topic_Prediction_Question_and_Answer_Pair', 'wiki_qa_Decide_good_answer', 'wiki_qa_Jeopardy_style', 'wiki_qa_Generate_Question_from_Topic', 'definite_pronoun_resolution_1_1_0', 'wiqa_effect_with_label_answer', 'glue_wnli_2_0_0', 'cot_qasc', 'cot_strategyqa_ii', 'quarel_logic_test', 'stream_aqua_ii']\n",
      "c4o5_2e = ['wiqa_what_might_be_the_first_step_of_the_process', 'huggingface_xsum', 'wiqa_what_is_the_final_step_of_the_following_process', 'cot_gsm8k', 'wmt16_translate_ro_en_1_0_0', 'gem_dart_1_1_0', 'wiqa_what_might_be_the_last_step_of_the_process', 'wiki_bio_key_content', 'gem_common_gen_1_1_0', 'duorc_SelfRC_build_story_around_qa', 'gem_wiki_lingua_english_en_1_1_0', 'gigaword_1_2_0', 'gem_web_nlg_en_1_1_0', 'app_reviews_generate_review', 'wiki_bio_what_content', 'wiki_bio_who', 'aeslc_1_0_0', 'gem_e2e_nlg_1_1_0', 'cot_esnli_ii', 'wmt16_translate_tr_en_1_0_0', 'wiqa_what_is_the_missing_first_step', 'wiki_bio_comprehension', 'coqa_1_0_0', 'duorc_ParaphraseRC_build_story_around_qa', 'multi_news_1_0_0']\n"
     ]
    }
   ],
   "source": [
    "clusters = defaultdict(list)\n",
    "# Print the cluster labels for each embedding\n",
    "for key, label in zip(module2embed.keys(), cluster_labels):\n",
    "    clusters[label].append(key)\n",
    "\n",
    "for c, l in clusters.items():\n",
    "    # print(f\"Cluster {c} has {len(l)} elements\")\n",
    "    print(f\"c{c}o{K}_2e = {l}\")"
   ]
  },
  {
   "cell_type": "markdown",
   "metadata": {},
   "source": [
    "# Save svd file"
   ]
  },
  {
   "cell_type": "code",
   "execution_count": null,
   "metadata": {},
   "outputs": [],
   "source": [
    "hf_api_key = os.environ[\"HF_TOKEN\"]\n",
    "login(token=hf_api_key)\n",
    "user = HfApi(token=hf_api_key).whoami()\n",
    "hf_repo_id = \"ostapeno/library-phi_2-v3-10-flan-clusters\"\n",
    "local_lib_location = f\"/tmp/{hf_repo_id}\"\n",
    "if not os.path.exists(local_lib_location):\n",
    "    os.makedirs(local_lib_location)\n",
    "    expert_lib: LocalExpertLibrary = LocalExpertLibrary.create_from_remote(\n",
    "        HFExpertLibrary(hf_repo_id), local_lib_location\n",
    "    )\n",
    "else:\n",
    "    expert_lib: LocalExpertLibrary = LocalExpertLibrary(local_lib_location)"
   ]
  },
  {
   "cell_type": "code",
   "execution_count": null,
   "metadata": {},
   "outputs": [],
   "source": [
    "_, svd = create_embeddings()"
   ]
  },
  {
   "cell_type": "code",
   "execution_count": null,
   "metadata": {},
   "outputs": [],
   "source": [
    "# upload embeddings\n",
    "remote_lib = HFExpertLibrary.from_local(\n",
    "    expert_lib,\n",
    "    hf_repo_id,\n",
    "    force=True,\n",
    "    upload_aux_data=True,\n",
    ")"
   ]
  },
  {
   "cell_type": "code",
   "execution_count": null,
   "metadata": {},
   "outputs": [],
   "source": [
    "import pickle\n",
    "# To save\n",
    "pickle.dump(svd, open(\"svd.pkl\", \"wb\"))"
   ]
  }
 ],
 "metadata": {
  "kernelspec": {
   "display_name": "comp_3.9",
   "language": "python",
   "name": "python3"
  },
  "language_info": {
   "codemirror_mode": {
    "name": "ipython",
    "version": 3
   },
   "file_extension": ".py",
   "mimetype": "text/x-python",
   "name": "python",
   "nbconvert_exporter": "python",
   "pygments_lexer": "ipython3",
   "version": "3.9.18"
  }
 },
 "nbformat": 4,
 "nbformat_minor": 2
}
